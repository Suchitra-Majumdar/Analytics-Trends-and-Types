{
 "cells": [
  {
   "cell_type": "markdown",
   "metadata": {},
   "source": [
    "### Analytics-Types"
   ]
  },
  {
   "cell_type": "markdown",
   "metadata": {},
   "source": [
    "#### Descriptive Analytics- What happend?\n",
    "  describes what happened in past\n",
    "#### Diagnostic Analytics-Why did it happen?\n",
    " Gives insight why did it happened\n",
    "#### Predictive Analytics-what will happen?\n",
    " Forecasting\n",
    "#### Prescriptive Analytics- How can we make it happen?\n",
    " suggesting some advice to achieve the objective"
   ]
  },
  {
   "cell_type": "markdown",
   "metadata": {},
   "source": [
    "<img src=\"MachineLearningPipeline.PNG\" width=\"800\" />"
   ]
  },
  {
   "cell_type": "markdown",
   "metadata": {},
   "source": [
    "### Business Problem\n",
    "The business objective was to identify risky drivers and train them instead of training all the drivers, i.e to predict the drivers wh will make accident in next 6 months based on drver's historical data\n",
    "### Tools\n",
    "Python\n",
    "### Algorithm\n",
    "(HML)Logistic Regression\n",
    "### Solution Approach\n",
    "Model training was done using past 18 months of data. The data for dependent or target variable(i.e a driver made accident or not) was taken from last 6 months. The data for independent variables(features) were takem for a duration of 1 year backwords from start period of target variable.\n",
    "The features were extracted from data categories like Accident, Demographics, Bus models, Service Type, Driving status, Behaviour(Telematics), Time,Complaints. \n",
    "\n",
    "First the model were trained on 400 features. Selected the best 30 features, trained multiple models and selected the best 20 models usingthe metrics top k precision(k=10%). Perfom precision using best 20 models and average the precsion score. Rank the driver using the average precision score. Select the top 10% drivers as relatively risky drivers.\n"
   ]
  },
  {
   "cell_type": "markdown",
   "metadata": {},
   "source": [
    "<img src=\"ModelTraining.PNG\" width=\"800\">"
   ]
  },
  {
   "cell_type": "code",
   "execution_count": null,
   "metadata": {},
   "outputs": [],
   "source": []
  }
 ],
 "metadata": {
  "kernelspec": {
   "display_name": "Python 3",
   "language": "python",
   "name": "python3"
  },
  "language_info": {
   "codemirror_mode": {
    "name": "ipython",
    "version": 3
   },
   "file_extension": ".py",
   "mimetype": "text/x-python",
   "name": "python",
   "nbconvert_exporter": "python",
   "pygments_lexer": "ipython3",
   "version": "3.7.3"
  }
 },
 "nbformat": 4,
 "nbformat_minor": 2
}
